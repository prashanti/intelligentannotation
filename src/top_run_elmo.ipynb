{
 "cells": [
  {
   "cell_type": "code",
   "execution_count": null,
   "metadata": {
    "id": "V9Dc9AQXSnqg"
   },
   "outputs": [],
   "source": [
    "%%capture\n",
    "for module in [\"tensorflow_addons\"]:\n",
    "    try:\n",
    "        __import__(module)\n",
    "    except ImportError:\n",
    "        !pip install {module}"
   ]
  },
  {
   "cell_type": "code",
   "execution_count": null,
   "metadata": {
    "colab": {
     "base_uri": "https://localhost:8080/"
    },
    "executionInfo": {
     "elapsed": 4165,
     "status": "ok",
     "timestamp": 1653641838037,
     "user": {
      "displayName": "NLP Onto",
      "userId": "16773177303145403854"
     },
     "user_tz": 240
    },
    "id": "OUgDAXP9TiLs",
    "outputId": "3f80a382-5491-4fd9-8a11-ebb5ddf0ff89"
   },
   "outputs": [],
   "source": [
    "import json\n",
    "from collections import defaultdict\n",
    "from ast import literal_eval\n",
    "\n",
    "from tensorflow.keras.models import Model\n",
    "from tensorflow.keras.layers import Lambda\n",
    "from tensorflow.keras.layers import Input, LSTM, Embedding, Dense, TimeDistributed, Dropout, Bidirectional, concatenate, SpatialDropout1D, GRU\n",
    "from tensorflow.keras.layers import BatchNormalization\n",
    "from tensorflow.keras.preprocessing.sequence import pad_sequences\n",
    "from tensorflow.keras.utils import to_categorical\n",
    "\n",
    "from sklearn.model_selection import train_test_split\n",
    "import os\n",
    "\n",
    "import numpy as np\n",
    "import pandas as pd\n",
    "\n",
    "import tensorflow.compat.v1 as tf\n",
    "tf.disable_v2_behavior()\n",
    "import tensorflow_addons as tfa\n",
    "# tf.compat.v1.enable_eager_execution()\n",
    "from tensorflow.keras import backend as K\n",
    "from tensorflow.compat.v1.keras.backend import set_session\n",
    "import tensorflow_hub as hub\n",
    "from tensorflow.compat.v1.keras.callbacks import EarlyStopping\n",
    "\n",
    "from tqdm.notebook import tqdm\n",
    "\n",
    "from sklearn.metrics import classification_report\n",
    "\n",
    "import networkx as nx\n",
    "from networkx.algorithms.traversal.depth_first_search import dfs_tree\n",
    "\n",
    "import logging\n",
    "\n",
    "logger = logging.getLogger()\n",
    "logger.setLevel(logging.INFO)"
   ]
  },
  {
   "cell_type": "code",
   "execution_count": null,
   "metadata": {},
   "outputs": [],
   "source": [
    "BASE_DIR = os.path.dirname(os.path.dirname(os.path.abspath(\"__file__\")))\n",
    "DATA_DIR = os.path.join(BASE_DIR, \"data\")\n",
    "MODEL_DIR = os.path.join(BASE_DIR, \"model_output\", \"Experiments\")\n",
    "DATASET_LOC = os.path.join(DATA_DIR, \"model_input\", \"dataset\")\n",
    "direct_parent = os.path.join(DATA_DIR, \"GO_Category\", \"GO_DirectParents.tsv\")\n",
    "\n",
    "go_category = [\"GO:0008150\", \"GO:0005575\", \"GO:0003674\"]"
   ]
  },
  {
   "cell_type": "code",
   "execution_count": null,
   "metadata": {
    "colab": {
     "base_uri": "https://localhost:8080/"
    },
    "executionInfo": {
     "elapsed": 2412,
     "status": "ok",
     "timestamp": 1653641840447,
     "user": {
      "displayName": "NLP Onto",
      "userId": "16773177303145403854"
     },
     "user_tz": 240
    },
    "id": "6YudD3Os-t4S",
    "outputId": "100c4454-9cc3-4b39-80de-8b5bc8b53cb0"
   },
   "outputs": [],
   "source": [
    "direct_data = pd.read_csv(direct_parent, delimiter=\"\\t\", names=['Child', 'Parent']).replace({\"_\": \":\"}, regex=True).drop(0).reset_index(drop=True)\n",
    "onto_digraph = nx.from_pandas_edgelist(direct_data, source='Child', target='Parent', create_using=nx.classes.digraph.DiGraph)\n",
    "print(\"Number of nodes:\", onto_digraph.number_of_nodes(), \"\\nNumber of edges:\", onto_digraph.number_of_edges())"
   ]
  },
  {
   "cell_type": "code",
   "execution_count": null,
   "metadata": {
    "id": "8mT-Xd0l-8DX"
   },
   "outputs": [],
   "source": [
    "subsumers = dict((i, list(set(np.array(dfs_tree(onto_digraph, i).edges()).flatten().tolist() + [i]) - set([\"owl:Thing\"]))) for i in onto_digraph.nodes())"
   ]
  },
  {
   "cell_type": "code",
   "execution_count": null,
   "metadata": {
    "id": "_P5E4AqgTwNj"
   },
   "outputs": [],
   "source": [
    "config = {\n",
    "    \"weight\": 0.75,\n",
    "    \"learning_rate\": 0.001,\n",
    "    \"epochs\": 35,\n",
    "    \"batch_size\": 64,\n",
    "    \"activation\": 'softmax', \n",
    "    \"rdropout\": 0.3,\n",
    "    \"optimizer\": 'adamw',\n",
    "    \"loss\": 'sigfocalCE',\n",
    "    \"callbacks\": [\n",
    "                  {\"early_stop\": tf.keras.callbacks.EarlyStopping(monitor = 'val_loss', \n",
    "                                                patience = 10, \n",
    "                                                verbose = 1,\n",
    "                                                restore_best_weights = True)},\n",
    "    ],\n",
    "    \"learning_rate_func\": 'cosinedecay',\n",
    "    \"max_len\": 71,\n",
    "    \"max_char_len\": 15,\n",
    "    \"min_sent_len\": 3,\n",
    "    \"project\": \"Intelligent_OA\",\n",
    "    \"extra_info\": \"ElMo, New Sim Score Scheme, inputs: Word(30D), POS(100D)\",\n",
    "    \"dropout\": 0.5,\n",
    "    \"name\": \"ELMO\"\n",
    "}"
   ]
  },
  {
   "cell_type": "code",
   "execution_count": null,
   "metadata": {
    "id": "pq_sPqnyT0MM"
   },
   "outputs": [],
   "source": [
    "train_data = json.load(open(os.path.join(DATASET_LOC, \"train.json\"), \"r\"))\n",
    "train_data = [i for i in train_data if len(i['tokens']) >= config.get(\"min_sent_len\")]\n",
    "\n",
    "test_data = json.load(open(os.path.join(DATASET_LOC, \"test.json\"), \"r\"))\n",
    "test_data = [i for i in test_data if len(i['tokens']) >= config.get(\"min_sent_len\")]\n",
    "input_data = train_data + test_data\n",
    "\n",
    "all_data = {\n",
    "    \"tokens\": [i['tokens'] for i in input_data],\n",
    "    \"tags\": [i['iob_tags'] for i in input_data],\n",
    "    \"pos\": [i['pos_tags'] for i in input_data],\n",
    "}\n",
    "assert (len(all_data['tokens']) == len(all_data['tags']) == len(all_data['pos']))"
   ]
  },
  {
   "cell_type": "code",
   "execution_count": null,
   "metadata": {
    "colab": {
     "base_uri": "https://localhost:8080/"
    },
    "executionInfo": {
     "elapsed": 1395,
     "status": "ok",
     "timestamp": 1653641899760,
     "user": {
      "displayName": "NLP Onto",
      "userId": "16773177303145403854"
     },
     "user_tz": 240
    },
    "id": "-XOEGjQxUG16",
    "outputId": "9b27b082-9569-4d41-912f-ed8cfb945a93"
   },
   "outputs": [],
   "source": [
    "words = [\"PAD\"] + sorted(set([j for i in all_data['tokens'] for j in i] + [\"UNK\", \"O\"]) - set([\"PAD\"]))\n",
    "tags = [\"PAD\"] + sorted(set([j for i in all_data['tags'] for j in i] + [\"UNK\", \"O\"]) - set([\"PAD\"]))\n",
    "chars = [\"PAD\"] + sorted(set([j for i in words for j in i] + [\"UNK\", \"O\"]) - set([\"PAD\"]))\n",
    "pos = [\"PAD\"] + sorted(set([j for i in all_data['pos'] for j in i] + [\"UNK\", \"O\"]) - set([\"PAD\"]))\n",
    "\n",
    "n_words, n_tags, n_chars, n_pos = len(words), len(tags), len(chars), len(pos)\n",
    "\n",
    "\n",
    "print(\"\\nNumber of Observations:{0}\\nNumber of words:{1}\\nNumber of tags:{2}\\nNumber of characters: {3}\\nNumber of pos: {4}\".format(\n",
    "    len(all_data['tokens']), n_words, n_tags, n_chars, n_pos))"
   ]
  },
  {
   "cell_type": "code",
   "execution_count": null,
   "metadata": {
    "colab": {
     "base_uri": "https://localhost:8080/"
    },
    "executionInfo": {
     "elapsed": 1578,
     "status": "ok",
     "timestamp": 1653641901331,
     "user": {
      "displayName": "NLP Onto",
      "userId": "16773177303145403854"
     },
     "user_tz": 240
    },
    "id": "_3UZe1pe4nMT",
    "outputId": "772c7cdb-dc3f-4dca-a6ca-9e397a9320df"
   },
   "outputs": [],
   "source": [
    "set([i.replace(\"B-\", \"\").replace(\"I-\", \"\") for i in tags]) - set(subsumers.keys())"
   ]
  },
  {
   "cell_type": "code",
   "execution_count": null,
   "metadata": {
    "id": "GW_sMt1JUQ4V"
   },
   "outputs": [],
   "source": [
    "word2idx = dict((i, idx) for idx, i in enumerate(words))\n",
    "idx2word = dict((v, k) for k, v in word2idx.items())\n",
    "\n",
    "tag2idx = dict((i, idx) for idx, i in enumerate(tags))\n",
    "idx2tag = dict((v, k) for k, v in tag2idx.items())\n",
    "\n",
    "char2idx = dict((i, idx) for idx, i in enumerate(chars))\n",
    "idx2char = dict((v, k) for k, v in char2idx.items())\n",
    "\n",
    "pos2idx = dict((i, idx) for idx, i in enumerate(pos))\n",
    "idx2pos = dict((v, k) for k, v in pos2idx.items())"
   ]
  },
  {
   "cell_type": "code",
   "execution_count": null,
   "metadata": {
    "id": "7pIDf-iyUVUs"
   },
   "outputs": [],
   "source": [
    "Y_tags = [[tag2idx.get(i) for i in sent] for sent in all_data['tags']]\n",
    "Y_tags = pad_sequences(maxlen=config.get(\"max_len\"), sequences=Y_tags, value=tag2idx.get(\"PAD\"), padding='post', truncating='post', dtype='float16')\n",
    "Y_tags = to_categorical(Y_tags, num_classes=n_tags, dtype='float16')"
   ]
  },
  {
   "cell_type": "code",
   "execution_count": null,
   "metadata": {
    "id": "mmAxm3RvUXXE"
   },
   "outputs": [],
   "source": [
    "def get_sim(term1, term2):\n",
    "    if \"GO\" in term1 and \"GO\" in term2:\n",
    "        term1 = term1.replace(\"B-\", \"\").replace(\"I-\", \"\")\n",
    "        term2 = term2.replace(\"B-\", \"\").replace(\"I-\", \"\")\n",
    "        t1 = set(subsumers.get(term1, term1))\n",
    "        t2 = set(subsumers.get(term2, term2))\n",
    "        if len(set.union(t1, t2)) > 0:\n",
    "            simj=len(set.intersection(t1, t2))/len(set.union(t1, t2))\n",
    "        else:\n",
    "            simj = 0.0\n",
    "    else:\n",
    "        simj = 0.0\n",
    "    return simj"
   ]
  },
  {
   "cell_type": "code",
   "execution_count": null,
   "metadata": {
    "colab": {
     "base_uri": "https://localhost:8080/"
    },
    "executionInfo": {
     "elapsed": 1662,
     "status": "ok",
     "timestamp": 1653641923333,
     "user": {
      "displayName": "NLP Onto",
      "userId": "16773177303145403854"
     },
     "user_tz": 240
    },
    "id": "khfXMDr0Ueeg",
    "outputId": "9f54d97d-c410-423d-e78b-db5f3e3913c0"
   },
   "outputs": [],
   "source": [
    "config"
   ]
  },
  {
   "cell_type": "code",
   "execution_count": null,
   "metadata": {
    "id": "hsTNpkMPpcKN"
   },
   "outputs": [],
   "source": [
    "sem_dist = dict([(i, to_categorical(i, num_classes=n_tags)) for i in range(n_tags)])\n",
    "factor = 0\n",
    "for i in range(n_tags):\n",
    "    iob_i = None\n",
    "    term_i = idx2tag.get(i)\n",
    "    if \"B-\" in term_i or \"I-\" in term_i:\n",
    "        iob_i = term_i[0]\n",
    "    term_i = term_i.replace(\"B-\", \"\").replace(\"I-\", \"\")\n",
    "    if \"GO\" in term_i:\n",
    "        sem_scores = []\n",
    "        for j in range(n_tags):\n",
    "            iob_j = None\n",
    "            term_j = idx2tag.get(j)\n",
    "            if \"B-\" in term_j or \"I-\" in term_j:\n",
    "                iob_j = term_j[0]\n",
    "            term_j = term_j.replace(\"B-\", \"\").replace(\"I-\", \"\")\n",
    "            score = config.get('weight') * get_sim(term_i, term_j)\n",
    "            if iob_i != iob_j:\n",
    "                score = factor * score\n",
    "            sem_scores.append(score)\n",
    "        sem_scores = np.array(sem_scores)\n",
    "        # if config.get(\"weight\"):\n",
    "        #     unique_vals = np.unique(sem_scores)\n",
    "        sem_scores[i] = 1\n",
    "        sem_dist[i] = sem_scores\n",
    "\n",
    "for i in range(n_tags):\n",
    "    num_max = np.where(sem_dist[i] == 1)[0].size\n",
    "    assert num_max == 1\n",
    "\n",
    "for i in range(len(Y_tags)):\n",
    "    for j in range(config.get(\"max_len\")):\n",
    "        k = np.where(Y_tags[i][j] == 1)[0][0]\n",
    "        Y_tags[i][j] = sem_dist[k]"
   ]
  },
  {
   "cell_type": "code",
   "execution_count": null,
   "metadata": {
    "id": "qY4oR2cEUhKM"
   },
   "outputs": [],
   "source": [
    "for k, v in sem_dist.items():\n",
    "    try:\n",
    "        assert np.where(v == 1)[0].size == 1\n",
    "    except:\n",
    "        print(np.where(v == 1)[0])"
   ]
  },
  {
   "cell_type": "code",
   "execution_count": null,
   "metadata": {
    "id": "92YnWFoaUkCq"
   },
   "outputs": [],
   "source": [
    "X_word = [(s, len(s)) for s in all_data['tokens']]\n",
    "X_word = np.array([i[0][:config.get(\"max_len\")] + [\"\"]*(config.get(\"max_len\")-i[1]) for i in X_word])\n",
    "\n",
    "X_char_temp = []\n",
    "for wds in all_data['tokens']:\n",
    "    wds = wds[:config.get(\"max_len\")] + [\"PAD\"]*(config.get(\"max_len\") - len(wds))\n",
    "    chrs = [list(word)[:config.get(\"max_char_len\")] + [\"PAD\"]*(config.get(\"max_char_len\")-len(word)) if word != \"PAD\" \n",
    "            else [\"PAD\"]*config.get(\"max_char_len\") for word in wds]\n",
    "    X_char_temp.append(np.array(chrs))\n",
    "X_char_temp = np.array(X_char_temp)\n",
    "X_char = np.vectorize(char2idx.get)(X_char_temp).astype('float16')\n",
    "del X_char_temp\n",
    "\n",
    "X_pos = [[pos2idx.get(w) for w in s] for s in all_data['pos']]\n",
    "X_pos = pad_sequences(maxlen=config.get(\"max_len\"), sequences=X_pos, value=pos2idx.get(\"PAD\"), padding='post', truncating='post', dtype='float16')"
   ]
  },
  {
   "cell_type": "code",
   "execution_count": null,
   "metadata": {
    "id": "qESjrT69Urag"
   },
   "outputs": [],
   "source": [
    "max_idx = 0\n",
    "for i in range(len(X_word), 0, -1):\n",
    "    if (i*0.7%config.get(\"batch_size\") == 0) and (i*0.3%config.get(\"batch_size\") == 0):\n",
    "        max_idx = i\n",
    "        break\n",
    "\n",
    "combined = [(X_word[i], X_char[i], X_pos[i]) for i in range(max_idx)]\n",
    "Y_tags = Y_tags[:max_idx]\n",
    "\n",
    "X_tr, X_te, y_tr, y_te = train_test_split(combined, Y_tags, test_size=0.3, random_state=2022)"
   ]
  },
  {
   "cell_type": "code",
   "execution_count": null,
   "metadata": {
    "id": "Sjx5s0gOUwAr"
   },
   "outputs": [],
   "source": [
    "input_train = []\n",
    "for i in range(len(combined[0])):\n",
    "    temp = []\n",
    "    for j in range(len(X_tr)):\n",
    "        temp.append(X_tr[j][i])\n",
    "    if i == 0:\n",
    "        input_train.append(np.array(temp, dtype='str'))\n",
    "    else:\n",
    "        input_train.append(np.array(temp, dtype='float16'))\n",
    "# input_train = tuple(input_train)\n",
    "\n",
    "input_test = []\n",
    "for i in range(len(combined[0])):\n",
    "    temp = []\n",
    "    for j in range(len(X_te)):\n",
    "        temp.append(X_te[j][i])\n",
    "    if i == 0:\n",
    "        input_test.append(np.array(temp, dtype='str'))\n",
    "    else:\n",
    "        input_test.append(np.array(temp, dtype='float16'))\n",
    "# input_test = tuple(input_test)"
   ]
  },
  {
   "cell_type": "code",
   "execution_count": null,
   "metadata": {
    "colab": {
     "base_uri": "https://localhost:8080/"
    },
    "executionInfo": {
     "elapsed": 2119,
     "status": "ok",
     "timestamp": 1653642019241,
     "user": {
      "displayName": "NLP Onto",
      "userId": "16773177303145403854"
     },
     "user_tz": 240
    },
    "id": "KqbG9awb5R4O",
    "outputId": "c672d6ac-ee5a-4e64-839c-8dd2a790a297"
   },
   "outputs": [],
   "source": [
    "[i.shape for i in input_train], y_tr.shape, [i.shape for i in input_test], y_te.shape"
   ]
  },
  {
   "cell_type": "code",
   "execution_count": null,
   "metadata": {
    "id": "QCeLnpSgUze3"
   },
   "outputs": [],
   "source": [
    "from sklearn.metrics import f1_score\n",
    "\n",
    "def go_val_acc(y_true, y_pred):\n",
    "    tmp = tf.math.argmax(y_pred[0], axis=-1)\n",
    "    tmp_g = tf.math.argmax(y_true[0], axis=-1)\n",
    "    #mask 0\n",
    "    tmp_m = tf.math.equal(tmp_g, tf.constant(0, dtype=tf.int64))\n",
    "    tmp_g_m = tf.math.equal(tmp, tf.constant(0, dtype=tf.int64))\n",
    "    \n",
    "    pr = tmp[tf.math.logical_not(tf.math.logical_and(tmp_m, tmp_g_m))]\n",
    "    gr = tmp_g[tf.math.logical_not(tf.math.logical_and(tmp_m, tmp_g_m))]\n",
    "    \n",
    "    if pr is not None:\n",
    "        c = tf.math.reduce_sum(tf.cast(pr==gr, dtype=tf.int64))/tf.cast(tf.size(pr), dtype=tf.int64)\n",
    "        return c\n",
    "    else:\n",
    "        return 0.0\n",
    "\n",
    "def go_val_f1(y_true, y_pred):\n",
    "    tmp_p = tf.math.argmax(y_pred[0], axis=-1)\n",
    "    tmp_g = tf.math.argmax(y_true[0], axis=-1)\n",
    "    #mask 0\n",
    "    tmp_p_m = tf.math.equal(tmp_p, tf.constant(0, dtype=tf.int64))\n",
    "    tmp_g_m = tf.math.equal(tmp_g, tf.constant(0, dtype=tf.int64))\n",
    "    \n",
    "    #get the positions where 0 != 0\n",
    "    pr = y_pred[tf.math.logical_not(tf.math.logical_and(tmp_p_m, tmp_g_m))]\n",
    "    gr = y_true[tf.math.logical_not(tf.math.logical_and(tmp_p_m, tmp_g_m))]\n",
    "    \n",
    "    true_positives = K.sum(K.round(K.clip(gr * pr, 0, 1)))\n",
    "    possible_positives = K.sum(K.round(K.clip(gr, 0, 1)))\n",
    "    predicted_positives = K.sum(K.round(K.clip(pr, 0, 1)))\n",
    "    precision = true_positives / (predicted_positives + K.epsilon())\n",
    "    recall = true_positives / (possible_positives + K.epsilon())\n",
    "    f1_val = 2*(precision*recall)/(precision+recall+K.epsilon())\n",
    "    return f1_val"
   ]
  },
  {
   "cell_type": "code",
   "execution_count": null,
   "metadata": {
    "id": "tWvn9dg9U1DT"
   },
   "outputs": [],
   "source": [
    "def get_optimizer(opt, lr):\n",
    "    if opt == 'adam':\n",
    "        return tf.keras.optimizers.Adam(learning_rate=lr, beta_1=0.9, beta_2=0.999)\n",
    "    elif opt == 'adamw':\n",
    "        step = tf.Variable(0, trainable=False)\n",
    "        schedule = tf.compat.v1.keras.optimizers.schedules.PiecewiseConstantDecay(\n",
    "        # schedule = tf.optimizers.schedules.PiecewiseConstantDecay(\n",
    "            [10000, 15000], [1e-0, 1e-1, 1e-2])\n",
    "        # lr and wd can be a function or a tensor\n",
    "        lr = lr * schedule(step)\n",
    "        wd = lambda: 1e-4 * schedule(step)\n",
    "        return tfa.optimizers.AdamW(learning_rate=lr, weight_decay=wd)\n",
    "    elif opt == 'rmsprop':\n",
    "        return tf.keras.optimizers.RMSprop(learning_rate=lr)\n",
    "    \n",
    "def get_loss(loss):\n",
    "    if 'categoricalCE' in loss:\n",
    "        if 'logits' in loss:\n",
    "            return tf.keras.losses.CategoricalCrossentropy(from_logits=True),\n",
    "        else:\n",
    "            return tf.keras.losses.CategoricalCrossentropy(from_logits=False)\n",
    "    elif 'sigfocalCE' in loss:\n",
    "        if 'logits' in loss:\n",
    "            return tfa.losses.SigmoidFocalCrossEntropy(from_logits=True),\n",
    "        else:\n",
    "            return tfa.losses.SigmoidFocalCrossEntropy(from_logits=False),\n",
    "    elif 'custom_sigfocalCE' in loss:\n",
    "        if 'logits' in loss:\n",
    "            return SigFocalCrossEntropy(from_logits=True),\n",
    "        else:\n",
    "            return SigFocalCrossEntropy(from_logits=False)"
   ]
  },
  {
   "cell_type": "code",
   "execution_count": null,
   "metadata": {
    "colab": {
     "base_uri": "https://localhost:8080/"
    },
    "executionInfo": {
     "elapsed": 11103,
     "status": "ok",
     "timestamp": 1653642035277,
     "user": {
      "displayName": "NLP Onto",
      "userId": "16773177303145403854"
     },
     "user_tz": 240
    },
    "id": "pGy3JXcdX4gC",
    "outputId": "a27e18e0-4747-4dd0-c26f-88f3fe546a48"
   },
   "outputs": [],
   "source": [
    "def ElmoEmbedding(x):\n",
    "    return elmo_model(inputs={\n",
    "                            \"tokens\": tf.squeeze(tf.cast(x, tf.string)),\n",
    "                            \"sequence_len\": tf.cast(tf.count_nonzero(x, axis=1), dtype=tf.int32) #tf.constant(BATCH_SIZE*[MAX_WORD_LEN])\n",
    "                      },\n",
    "                      signature=\"tokens\",\n",
    "                      as_dict=True)[\"elmo\"]\n",
    "\n",
    "\n",
    "sess = tf.Session()\n",
    "set_session(sess)\n",
    "elmo_model = hub.Module(\"https://tfhub.dev/google/elmo/3\", trainable=True)\n",
    "sess.run(tf.global_variables_initializer())\n",
    "sess.run(tf.tables_initializer())"
   ]
  },
  {
   "cell_type": "code",
   "execution_count": null,
   "metadata": {
    "colab": {
     "base_uri": "https://localhost:8080/"
    },
    "executionInfo": {
     "elapsed": 4068,
     "status": "ok",
     "timestamp": 1653642039339,
     "user": {
      "displayName": "NLP Onto",
      "userId": "16773177303145403854"
     },
     "user_tz": 240
    },
    "id": "vzLeuN1QU3Yz",
    "outputId": "d9e07e5e-93ad-48f7-82aa-cc664bd903fe"
   },
   "outputs": [],
   "source": [
    "word_in = Input(shape=(config.get(\"max_len\"),), dtype=tf.string, name=\"WORD\")\n",
    "emb_word = Lambda(ElmoEmbedding)(word_in)\n",
    "\n",
    "# input and embeddings for characters\n",
    "char_in = Input(shape=(config.get(\"max_len\"), config.get(\"max_char_len\"),), name=\"CHAR\")\n",
    "emb_char = TimeDistributed(Embedding(input_dim=n_chars, output_dim=100, input_length=config.get(\"max_char_len\"), mask_zero=True))(char_in)\n",
    "char_enc = TimeDistributed(GRU(units=150, return_sequences=False, recurrent_dropout=0.5))(emb_char)\n",
    "\n",
    "#input and embeddings for pos\n",
    "pos_in = Input(shape=(config.get(\"max_len\"),), name=\"POS\")\n",
    "emb_pos = Embedding(input_dim=n_pos, output_dim=100, input_length=config.get(\"max_len\"), mask_zero=True, name=\"EMB_POS\")(pos_in)\n",
    "\n",
    "# main LSTM\n",
    "x = concatenate([emb_word, char_enc, emb_pos])\n",
    "x = SpatialDropout1D(config.get(\"dropout\"))(x)\n",
    "main_lstm = Bidirectional(GRU(units=150, return_sequences=True, recurrent_dropout=config['rdropout']))(x)\n",
    "main_lstm = TimeDistributed(Dense(3200, activation='relu'))(main_lstm)\n",
    "main_lstm = Dropout(config.get(\"dropout\"))(main_lstm)\n",
    "out = TimeDistributed(Dense(n_tags, activation=config['activation']), name=\"OUT_TAGS\")(main_lstm)\n",
    "\n",
    "model = Model([word_in, char_in, pos_in], out)\n",
    "model.compile(optimizer = get_optimizer(config['optimizer'], config['learning_rate']), loss=get_loss(config['loss']), metrics=[\"acc\", go_val_f1])"
   ]
  },
  {
   "cell_type": "code",
   "execution_count": null,
   "metadata": {
    "colab": {
     "base_uri": "https://localhost:8080/"
    },
    "executionInfo": {
     "elapsed": 1815,
     "status": "ok",
     "timestamp": 1653642041109,
     "user": {
      "displayName": "NLP Onto",
      "userId": "16773177303145403854"
     },
     "user_tz": 240
    },
    "id": "A0XiPg-NU5js",
    "outputId": "8461ce00-f6d5-42eb-c675-b2060901bf67"
   },
   "outputs": [],
   "source": [
    "model.summary()"
   ]
  },
  {
   "cell_type": "code",
   "execution_count": null,
   "metadata": {
    "colab": {
     "base_uri": "https://localhost:8080/",
     "height": 976
    },
    "executionInfo": {
     "elapsed": 2641,
     "status": "ok",
     "timestamp": 1653642043748,
     "user": {
      "displayName": "NLP Onto",
      "userId": "16773177303145403854"
     },
     "user_tz": 240
    },
    "id": "1jBCYjJfU7-i",
    "outputId": "671881bd-2f10-4c2e-d665-e023d267e2f6"
   },
   "outputs": [],
   "source": [
    "model_arch = tf.keras.utils.plot_model(model, show_shapes=True)\n",
    "display(model_arch)"
   ]
  },
  {
   "cell_type": "code",
   "execution_count": null,
   "metadata": {
    "id": "707JUeIBYXRW"
   },
   "outputs": [],
   "source": [
    "sess = tf.Session()\n",
    "set_session(sess)\n",
    "sess.run(tf.global_variables_initializer())\n",
    "sess.run(tf.tables_initializer())"
   ]
  },
  {
   "cell_type": "code",
   "execution_count": null,
   "metadata": {
    "colab": {
     "base_uri": "https://localhost:8080/"
    },
    "executionInfo": {
     "elapsed": 3207564,
     "status": "ok",
     "timestamp": 1653647907317,
     "user": {
      "displayName": "NLP Onto",
      "userId": "16773177303145403854"
     },
     "user_tz": 240
    },
    "id": "0rjyIW0BU9Pt",
    "outputId": "2b7eb8f7-4edf-4759-b87d-7aadd9a1c59f"
   },
   "outputs": [],
   "source": [
    "history = model.fit(\n",
    "    input_train, y_tr, \n",
    "    batch_size=config.get(\"batch_size\"),\n",
    "    epochs=config.get(\"epochs\"),\n",
    "    verbose=1,\n",
    ")"
   ]
  },
  {
   "cell_type": "code",
   "execution_count": null,
   "metadata": {
    "id": "vMKAXkAnVBSf"
   },
   "outputs": [],
   "source": [
    "del X_word, X_char, X_pos, Y_tags, combined"
   ]
  },
  {
   "cell_type": "code",
   "execution_count": null,
   "metadata": {
    "colab": {
     "base_uri": "https://localhost:8080/",
     "height": 121,
     "referenced_widgets": [
      "d1a3191a434646dc859d01277a9e5608",
      "e0e5d44c0f0948018a3eb599001eb464",
      "7e781e4ac38642239148f2f76f300963",
      "6e420f3e36ca4ac8843a9cc0ad16a7f4",
      "de0f5c7bdf834daab2f68c48b311ea35",
      "fd3303f8831247898b50a0e8b352f1a2",
      "b807c9071a59493f89a6ff819bd2ae0b",
      "5bcbded5117b4b908b14b72095566bc2",
      "16955d5931774af1b79d40bc56269740",
      "4fed213028d843fba23c63d4c766c13e",
      "db9003a7f4864cd0a351f1a9388315ad"
     ]
    },
    "executionInfo": {
     "elapsed": 166039,
     "status": "ok",
     "timestamp": 1653648078312,
     "user": {
      "displayName": "NLP Onto",
      "userId": "16773177303145403854"
     },
     "user_tz": 240
    },
    "id": "kCPdmyp0VP0b",
    "outputId": "fd5781e3-9487-4950-ee43-4957ce47e7cd"
   },
   "outputs": [],
   "source": [
    "pred = []\n",
    "pbar = tqdm(total=len(X_te), desc=\"Making predictions:\")\n",
    "for i in range(int(len(X_te)/10)):\n",
    "    # temp = np.argsort(-1*model.predict([j[i*10:(i+1)*10] for j in input_test]), axis=-1)\n",
    "    inp = [j[i*10:(i+1)*10] for j in input_test]\n",
    "    if inp[0].shape[0] != 0:\n",
    "        temp = model.predict(inp)\n",
    "    pred.append(temp)\n",
    "    pbar.update(temp.shape[0])\n",
    "pred = np.concatenate(pred)\n",
    "pbar.close()\n",
    "pred.shape"
   ]
  },
  {
   "cell_type": "code",
   "execution_count": null,
   "metadata": {
    "id": "Zv6MKC08SwtB"
   },
   "outputs": [],
   "source": [
    "word = input_test[0].flatten()\n",
    "ground_truth = np.vectorize(idx2tag.get)(np.argmax(y_te, axis=-1)).flatten()\n",
    "predictions = (np.vectorize(idx2tag.get)(np.argmax(pred, axis=-1))).flatten().tolist()\n",
    "two_predictions = (np.vectorize(idx2tag.get)(np.argsort(-1*pred, axis=-1)[:,:,:2])).reshape(pred.shape[0]*pred.shape[1], 2).tolist()"
   ]
  },
  {
   "cell_type": "code",
   "execution_count": null,
   "metadata": {
    "id": "cAL3ZEXSVXUd"
   },
   "outputs": [],
   "source": [
    "pd_data = pd.DataFrame({\n",
    "    \"Word\": word,\n",
    "    \"Ground_Truth\": ground_truth,\n",
    "    \"Prediction\": predictions,\n",
    "    \"Top_Two_Predictions\": two_predictions,\n",
    "})\n",
    "pd_data"
   ]
  },
  {
   "cell_type": "code",
   "execution_count": null,
   "metadata": {
    "id": "TTy4tiyJVYZT"
   },
   "outputs": [],
   "source": [
    "pd_data.drop(pd_data[pd_data['Ground_Truth'] == \"PAD\"].index, inplace=True)\n",
    "pd_data.drop(pd_data[(pd_data[\"Ground_Truth\"] == \"O\") & (pd_data[\"Prediction\"] == \"O\")].index, inplace=True)\n",
    "pd_data.drop(pd_data[(pd_data[\"Ground_Truth\"] == \"EOS\") & (pd_data[\"Prediction\"] == \"EOS\")].index, inplace=True)\n",
    "pd_data"
   ]
  },
  {
   "cell_type": "code",
   "execution_count": null,
   "metadata": {
    "id": "AXflVC_S0fYl"
   },
   "outputs": [],
   "source": [
    "pd_data['Comparison'] = pd_data.apply(lambda x: x[1] if x[1] in x[-1] else x[-1][-1], axis=1)\n",
    "pd_data"
   ]
  },
  {
   "cell_type": "code",
   "execution_count": null,
   "metadata": {
    "colab": {
     "base_uri": "https://localhost:8080/"
    },
    "executionInfo": {
     "elapsed": 5500,
     "status": "ok",
     "timestamp": 1653648241046,
     "user": {
      "displayName": "NLP Onto",
      "userId": "16773177303145403854"
     },
     "user_tz": 240
    },
    "id": "1j8bez660gRp",
    "outputId": "8aed14d0-a396-47ca-fa71-257bb2b07843"
   },
   "outputs": [],
   "source": [
    "top_report = classification_report(\n",
    "    pd_data['Ground_Truth'],\n",
    "    pd_data['Prediction'],\n",
    "    zero_division=False,\n",
    "    digits = 4\n",
    ")\n",
    "print(top_report)"
   ]
  },
  {
   "cell_type": "code",
   "execution_count": null,
   "metadata": {
    "id": "l-6zykJWE3WZ"
   },
   "outputs": [],
   "source": [
    "{\"IOB_F1\": top_report.splitlines()[-1].split()[-2],\n",
    "                      \"IOB_Sim\": np.round(pd_data[['Prediction','Ground_Truth']].apply(lambda x: get_sim(x[0], x[1]), axis=1).mean(), 4)}"
   ]
  },
  {
   "cell_type": "code",
   "execution_count": null,
   "metadata": {
    "colab": {
     "base_uri": "https://localhost:8080/",
     "height": 424
    },
    "executionInfo": {
     "elapsed": 5035,
     "status": "ok",
     "timestamp": 1653648256326,
     "user": {
      "displayName": "NLP Onto",
      "userId": "16773177303145403854"
     },
     "user_tz": 240
    },
    "id": "I8hQSO-BE7n0",
    "outputId": "bf8eb68b-2aa5-4f94-e32c-d2d348112928"
   },
   "outputs": [],
   "source": [
    "df1 = pd_data.copy().replace({\"B-GO:\": \"GO:\", \"I-GO:\": \"GO:\"}, regex=True)\n",
    "df1"
   ]
  },
  {
   "cell_type": "code",
   "execution_count": null,
   "metadata": {
    "id": "CQOkeqavE9PI"
   },
   "outputs": [],
   "source": [
    "report = classification_report(\n",
    "    df1['Ground_Truth'],\n",
    "    df1['Prediction'],\n",
    "    zero_division=False,\n",
    "    digits = 4\n",
    ")\n",
    "print(report)"
   ]
  },
  {
   "cell_type": "code",
   "execution_count": null,
   "metadata": {
    "id": "n7Gza6WwE-e_"
   },
   "outputs": [],
   "source": [
    "{\"F1\": report.splitlines()[-1].split()[-2],\n",
    "                      \"Sim\": np.round(df1[['Prediction','Ground_Truth']].apply(lambda x: get_sim(x[0], x[1]), axis=1).mean(), 4)}"
   ]
  },
  {
   "cell_type": "code",
   "execution_count": null,
   "metadata": {
    "colab": {
     "base_uri": "https://localhost:8080/",
     "height": 424
    },
    "executionInfo": {
     "elapsed": 7456,
     "status": "ok",
     "timestamp": 1653648279021,
     "user": {
      "displayName": "NLP Onto",
      "userId": "16773177303145403854"
     },
     "user_tz": 240
    },
    "id": "Y18691rLFDSs",
    "outputId": "f8c8e56a-a233-4af4-f837-ec8f6d7a2519"
   },
   "outputs": [],
   "source": [
    "df2 = df1.copy()\n",
    "df2.drop(df2[(df2[\"Ground_Truth\"] == \"O\") & (df2[\"Comparison\"] == \"O\")].index, inplace=True)\n",
    "df2.drop(df2[(df2[\"Ground_Truth\"] == \"EOS\") & (df2[\"Comparison\"] == \"EOS\")].index, inplace=True)\n",
    "df2"
   ]
  },
  {
   "cell_type": "code",
   "execution_count": null,
   "metadata": {
    "id": "OIwuF2bhFEXw"
   },
   "outputs": [],
   "source": [
    "top_two_report = classification_report(\n",
    "    df2['Ground_Truth'],\n",
    "    df2['Comparison'],\n",
    "    zero_division=False,\n",
    "    digits = 4\n",
    ")\n",
    "print(top_two_report)"
   ]
  },
  {
   "cell_type": "code",
   "execution_count": null,
   "metadata": {
    "id": "11IMQtpHFFcT"
   },
   "outputs": [],
   "source": [
    "{\"F1_Top_2\": top_two_report.splitlines()[-1].split()[-2],\n",
    "                      \"Sim_Top_2\": np.round(df2[['Comparison','Ground_Truth']].apply(lambda x: get_sim(x[0], x[1]), axis=1).mean(), 4)}"
   ]
  },
  {
   "cell_type": "code",
   "execution_count": null,
   "metadata": {
    "id": "3rR4KFvbFKs8"
   },
   "outputs": [],
   "source": []
  }
 ],
 "metadata": {
  "accelerator": "GPU",
  "colab": {
   "authorship_tag": "ABX9TyNEKbX/jsS91vw+c5+0ymwp",
   "collapsed_sections": [],
   "machine_shape": "hm",
   "mount_file_id": "1AbsBUNY4sv0vo76FDS3ubW44VXl14UyH",
   "name": "top_run_elmo.ipynb",
   "provenance": [
    {
     "file_id": "1w1wMMm2eck4r6i_UCuBz0ucTM9TWXyC5",
     "timestamp": 1653618528698
    }
   ]
  },
  "kernelspec": {
   "display_name": "Python 3",
   "language": "python",
   "name": "python3"
  },
  "language_info": {
   "codemirror_mode": {
    "name": "ipython",
    "version": 3
   },
   "file_extension": ".py",
   "mimetype": "text/x-python",
   "name": "python",
   "nbconvert_exporter": "python",
   "pygments_lexer": "ipython3",
   "version": "3.7.10"
  },
  "widgets": {
   "application/vnd.jupyter.widget-state+json": {
    "16955d5931774af1b79d40bc56269740": {
     "model_module": "@jupyter-widgets/controls",
     "model_module_version": "1.5.0",
     "model_name": "ProgressStyleModel",
     "state": {
      "_model_module": "@jupyter-widgets/controls",
      "_model_module_version": "1.5.0",
      "_model_name": "ProgressStyleModel",
      "_view_count": null,
      "_view_module": "@jupyter-widgets/base",
      "_view_module_version": "1.2.0",
      "_view_name": "StyleView",
      "bar_color": null,
      "description_width": ""
     }
    },
    "46eb88603200451794a7607419f10eef": {
     "model_module": "@jupyter-widgets/controls",
     "model_module_version": "1.5.0",
     "model_name": "LabelModel",
     "state": {
      "_dom_classes": [],
      "_model_module": "@jupyter-widgets/controls",
      "_model_module_version": "1.5.0",
      "_model_name": "LabelModel",
      "_view_count": null,
      "_view_module": "@jupyter-widgets/controls",
      "_view_module_version": "1.5.0",
      "_view_name": "LabelView",
      "description": "",
      "description_tooltip": null,
      "layout": "IPY_MODEL_bbe2aea8ebf5459da1f17d1df9bf9c13",
      "placeholder": "​",
      "style": "IPY_MODEL_ddd981d546b04dc3ab342c570a6ee6c8",
      "value": "4163.476 MB of 4163.476 MB uploaded (0.000 MB deduped)\r"
     }
    },
    "4e044aaaafb54641bb35a5ee805ce832": {
     "model_module": "@jupyter-widgets/controls",
     "model_module_version": "1.5.0",
     "model_name": "ProgressStyleModel",
     "state": {
      "_model_module": "@jupyter-widgets/controls",
      "_model_module_version": "1.5.0",
      "_model_name": "ProgressStyleModel",
      "_view_count": null,
      "_view_module": "@jupyter-widgets/base",
      "_view_module_version": "1.2.0",
      "_view_name": "StyleView",
      "bar_color": null,
      "description_width": ""
     }
    },
    "4fed213028d843fba23c63d4c766c13e": {
     "model_module": "@jupyter-widgets/base",
     "model_module_version": "1.2.0",
     "model_name": "LayoutModel",
     "state": {
      "_model_module": "@jupyter-widgets/base",
      "_model_module_version": "1.2.0",
      "_model_name": "LayoutModel",
      "_view_count": null,
      "_view_module": "@jupyter-widgets/base",
      "_view_module_version": "1.2.0",
      "_view_name": "LayoutView",
      "align_content": null,
      "align_items": null,
      "align_self": null,
      "border": null,
      "bottom": null,
      "display": null,
      "flex": null,
      "flex_flow": null,
      "grid_area": null,
      "grid_auto_columns": null,
      "grid_auto_flow": null,
      "grid_auto_rows": null,
      "grid_column": null,
      "grid_gap": null,
      "grid_row": null,
      "grid_template_areas": null,
      "grid_template_columns": null,
      "grid_template_rows": null,
      "height": null,
      "justify_content": null,
      "justify_items": null,
      "left": null,
      "margin": null,
      "max_height": null,
      "max_width": null,
      "min_height": null,
      "min_width": null,
      "object_fit": null,
      "object_position": null,
      "order": null,
      "overflow": null,
      "overflow_x": null,
      "overflow_y": null,
      "padding": null,
      "right": null,
      "top": null,
      "visibility": null,
      "width": null
     }
    },
    "5bcbded5117b4b908b14b72095566bc2": {
     "model_module": "@jupyter-widgets/base",
     "model_module_version": "1.2.0",
     "model_name": "LayoutModel",
     "state": {
      "_model_module": "@jupyter-widgets/base",
      "_model_module_version": "1.2.0",
      "_model_name": "LayoutModel",
      "_view_count": null,
      "_view_module": "@jupyter-widgets/base",
      "_view_module_version": "1.2.0",
      "_view_name": "LayoutView",
      "align_content": null,
      "align_items": null,
      "align_self": null,
      "border": null,
      "bottom": null,
      "display": null,
      "flex": null,
      "flex_flow": null,
      "grid_area": null,
      "grid_auto_columns": null,
      "grid_auto_flow": null,
      "grid_auto_rows": null,
      "grid_column": null,
      "grid_gap": null,
      "grid_row": null,
      "grid_template_areas": null,
      "grid_template_columns": null,
      "grid_template_rows": null,
      "height": null,
      "justify_content": null,
      "justify_items": null,
      "left": null,
      "margin": null,
      "max_height": null,
      "max_width": null,
      "min_height": null,
      "min_width": null,
      "object_fit": null,
      "object_position": null,
      "order": null,
      "overflow": null,
      "overflow_x": null,
      "overflow_y": null,
      "padding": null,
      "right": null,
      "top": null,
      "visibility": null,
      "width": null
     }
    },
    "6e420f3e36ca4ac8843a9cc0ad16a7f4": {
     "model_module": "@jupyter-widgets/controls",
     "model_module_version": "1.5.0",
     "model_name": "HTMLModel",
     "state": {
      "_dom_classes": [],
      "_model_module": "@jupyter-widgets/controls",
      "_model_module_version": "1.5.0",
      "_model_name": "HTMLModel",
      "_view_count": null,
      "_view_module": "@jupyter-widgets/controls",
      "_view_module_version": "1.5.0",
      "_view_name": "HTMLView",
      "description": "",
      "description_tooltip": null,
      "layout": "IPY_MODEL_4fed213028d843fba23c63d4c766c13e",
      "placeholder": "​",
      "style": "IPY_MODEL_db9003a7f4864cd0a351f1a9388315ad",
      "value": " 8640/8640 [02:41&lt;00:00, 57.71it/s]"
     }
    },
    "722a8f94e14d422d82b1c37390763700": {
     "model_module": "@jupyter-widgets/base",
     "model_module_version": "1.2.0",
     "model_name": "LayoutModel",
     "state": {
      "_model_module": "@jupyter-widgets/base",
      "_model_module_version": "1.2.0",
      "_model_name": "LayoutModel",
      "_view_count": null,
      "_view_module": "@jupyter-widgets/base",
      "_view_module_version": "1.2.0",
      "_view_name": "LayoutView",
      "align_content": null,
      "align_items": null,
      "align_self": null,
      "border": null,
      "bottom": null,
      "display": null,
      "flex": null,
      "flex_flow": null,
      "grid_area": null,
      "grid_auto_columns": null,
      "grid_auto_flow": null,
      "grid_auto_rows": null,
      "grid_column": null,
      "grid_gap": null,
      "grid_row": null,
      "grid_template_areas": null,
      "grid_template_columns": null,
      "grid_template_rows": null,
      "height": null,
      "justify_content": null,
      "justify_items": null,
      "left": null,
      "margin": null,
      "max_height": null,
      "max_width": null,
      "min_height": null,
      "min_width": null,
      "object_fit": null,
      "object_position": null,
      "order": null,
      "overflow": null,
      "overflow_x": null,
      "overflow_y": null,
      "padding": null,
      "right": null,
      "top": null,
      "visibility": null,
      "width": null
     }
    },
    "7e781e4ac38642239148f2f76f300963": {
     "model_module": "@jupyter-widgets/controls",
     "model_module_version": "1.5.0",
     "model_name": "FloatProgressModel",
     "state": {
      "_dom_classes": [],
      "_model_module": "@jupyter-widgets/controls",
      "_model_module_version": "1.5.0",
      "_model_name": "FloatProgressModel",
      "_view_count": null,
      "_view_module": "@jupyter-widgets/controls",
      "_view_module_version": "1.5.0",
      "_view_name": "ProgressView",
      "bar_style": "success",
      "description": "",
      "description_tooltip": null,
      "layout": "IPY_MODEL_5bcbded5117b4b908b14b72095566bc2",
      "max": 8640,
      "min": 0,
      "orientation": "horizontal",
      "style": "IPY_MODEL_16955d5931774af1b79d40bc56269740",
      "value": 8640
     }
    },
    "81cb8a014c744151a9d1672b50ed13ee": {
     "model_module": "@jupyter-widgets/controls",
     "model_module_version": "1.5.0",
     "model_name": "FloatProgressModel",
     "state": {
      "_dom_classes": [],
      "_model_module": "@jupyter-widgets/controls",
      "_model_module_version": "1.5.0",
      "_model_name": "FloatProgressModel",
      "_view_count": null,
      "_view_module": "@jupyter-widgets/controls",
      "_view_module_version": "1.5.0",
      "_view_name": "ProgressView",
      "bar_style": "",
      "description": "",
      "description_tooltip": null,
      "layout": "IPY_MODEL_cdc3b4f3f47c4b41aa15316884214463",
      "max": 1,
      "min": 0,
      "orientation": "horizontal",
      "style": "IPY_MODEL_4e044aaaafb54641bb35a5ee805ce832",
      "value": 1
     }
    },
    "9e8792c8fc6349c88e0c889641deae29": {
     "model_module": "@jupyter-widgets/controls",
     "model_module_version": "1.5.0",
     "model_name": "VBoxModel",
     "state": {
      "_dom_classes": [],
      "_model_module": "@jupyter-widgets/controls",
      "_model_module_version": "1.5.0",
      "_model_name": "VBoxModel",
      "_view_count": null,
      "_view_module": "@jupyter-widgets/controls",
      "_view_module_version": "1.5.0",
      "_view_name": "VBoxView",
      "box_style": "",
      "children": [
       "IPY_MODEL_46eb88603200451794a7607419f10eef",
       "IPY_MODEL_81cb8a014c744151a9d1672b50ed13ee"
      ],
      "layout": "IPY_MODEL_722a8f94e14d422d82b1c37390763700"
     }
    },
    "b807c9071a59493f89a6ff819bd2ae0b": {
     "model_module": "@jupyter-widgets/controls",
     "model_module_version": "1.5.0",
     "model_name": "DescriptionStyleModel",
     "state": {
      "_model_module": "@jupyter-widgets/controls",
      "_model_module_version": "1.5.0",
      "_model_name": "DescriptionStyleModel",
      "_view_count": null,
      "_view_module": "@jupyter-widgets/base",
      "_view_module_version": "1.2.0",
      "_view_name": "StyleView",
      "description_width": ""
     }
    },
    "bbe2aea8ebf5459da1f17d1df9bf9c13": {
     "model_module": "@jupyter-widgets/base",
     "model_module_version": "1.2.0",
     "model_name": "LayoutModel",
     "state": {
      "_model_module": "@jupyter-widgets/base",
      "_model_module_version": "1.2.0",
      "_model_name": "LayoutModel",
      "_view_count": null,
      "_view_module": "@jupyter-widgets/base",
      "_view_module_version": "1.2.0",
      "_view_name": "LayoutView",
      "align_content": null,
      "align_items": null,
      "align_self": null,
      "border": null,
      "bottom": null,
      "display": null,
      "flex": null,
      "flex_flow": null,
      "grid_area": null,
      "grid_auto_columns": null,
      "grid_auto_flow": null,
      "grid_auto_rows": null,
      "grid_column": null,
      "grid_gap": null,
      "grid_row": null,
      "grid_template_areas": null,
      "grid_template_columns": null,
      "grid_template_rows": null,
      "height": null,
      "justify_content": null,
      "justify_items": null,
      "left": null,
      "margin": null,
      "max_height": null,
      "max_width": null,
      "min_height": null,
      "min_width": null,
      "object_fit": null,
      "object_position": null,
      "order": null,
      "overflow": null,
      "overflow_x": null,
      "overflow_y": null,
      "padding": null,
      "right": null,
      "top": null,
      "visibility": null,
      "width": null
     }
    },
    "cdc3b4f3f47c4b41aa15316884214463": {
     "model_module": "@jupyter-widgets/base",
     "model_module_version": "1.2.0",
     "model_name": "LayoutModel",
     "state": {
      "_model_module": "@jupyter-widgets/base",
      "_model_module_version": "1.2.0",
      "_model_name": "LayoutModel",
      "_view_count": null,
      "_view_module": "@jupyter-widgets/base",
      "_view_module_version": "1.2.0",
      "_view_name": "LayoutView",
      "align_content": null,
      "align_items": null,
      "align_self": null,
      "border": null,
      "bottom": null,
      "display": null,
      "flex": null,
      "flex_flow": null,
      "grid_area": null,
      "grid_auto_columns": null,
      "grid_auto_flow": null,
      "grid_auto_rows": null,
      "grid_column": null,
      "grid_gap": null,
      "grid_row": null,
      "grid_template_areas": null,
      "grid_template_columns": null,
      "grid_template_rows": null,
      "height": null,
      "justify_content": null,
      "justify_items": null,
      "left": null,
      "margin": null,
      "max_height": null,
      "max_width": null,
      "min_height": null,
      "min_width": null,
      "object_fit": null,
      "object_position": null,
      "order": null,
      "overflow": null,
      "overflow_x": null,
      "overflow_y": null,
      "padding": null,
      "right": null,
      "top": null,
      "visibility": null,
      "width": null
     }
    },
    "d1a3191a434646dc859d01277a9e5608": {
     "model_module": "@jupyter-widgets/controls",
     "model_module_version": "1.5.0",
     "model_name": "HBoxModel",
     "state": {
      "_dom_classes": [],
      "_model_module": "@jupyter-widgets/controls",
      "_model_module_version": "1.5.0",
      "_model_name": "HBoxModel",
      "_view_count": null,
      "_view_module": "@jupyter-widgets/controls",
      "_view_module_version": "1.5.0",
      "_view_name": "HBoxView",
      "box_style": "",
      "children": [
       "IPY_MODEL_e0e5d44c0f0948018a3eb599001eb464",
       "IPY_MODEL_7e781e4ac38642239148f2f76f300963",
       "IPY_MODEL_6e420f3e36ca4ac8843a9cc0ad16a7f4"
      ],
      "layout": "IPY_MODEL_de0f5c7bdf834daab2f68c48b311ea35"
     }
    },
    "db9003a7f4864cd0a351f1a9388315ad": {
     "model_module": "@jupyter-widgets/controls",
     "model_module_version": "1.5.0",
     "model_name": "DescriptionStyleModel",
     "state": {
      "_model_module": "@jupyter-widgets/controls",
      "_model_module_version": "1.5.0",
      "_model_name": "DescriptionStyleModel",
      "_view_count": null,
      "_view_module": "@jupyter-widgets/base",
      "_view_module_version": "1.2.0",
      "_view_name": "StyleView",
      "description_width": ""
     }
    },
    "ddd981d546b04dc3ab342c570a6ee6c8": {
     "model_module": "@jupyter-widgets/controls",
     "model_module_version": "1.5.0",
     "model_name": "DescriptionStyleModel",
     "state": {
      "_model_module": "@jupyter-widgets/controls",
      "_model_module_version": "1.5.0",
      "_model_name": "DescriptionStyleModel",
      "_view_count": null,
      "_view_module": "@jupyter-widgets/base",
      "_view_module_version": "1.2.0",
      "_view_name": "StyleView",
      "description_width": ""
     }
    },
    "de0f5c7bdf834daab2f68c48b311ea35": {
     "model_module": "@jupyter-widgets/base",
     "model_module_version": "1.2.0",
     "model_name": "LayoutModel",
     "state": {
      "_model_module": "@jupyter-widgets/base",
      "_model_module_version": "1.2.0",
      "_model_name": "LayoutModel",
      "_view_count": null,
      "_view_module": "@jupyter-widgets/base",
      "_view_module_version": "1.2.0",
      "_view_name": "LayoutView",
      "align_content": null,
      "align_items": null,
      "align_self": null,
      "border": null,
      "bottom": null,
      "display": null,
      "flex": null,
      "flex_flow": null,
      "grid_area": null,
      "grid_auto_columns": null,
      "grid_auto_flow": null,
      "grid_auto_rows": null,
      "grid_column": null,
      "grid_gap": null,
      "grid_row": null,
      "grid_template_areas": null,
      "grid_template_columns": null,
      "grid_template_rows": null,
      "height": null,
      "justify_content": null,
      "justify_items": null,
      "left": null,
      "margin": null,
      "max_height": null,
      "max_width": null,
      "min_height": null,
      "min_width": null,
      "object_fit": null,
      "object_position": null,
      "order": null,
      "overflow": null,
      "overflow_x": null,
      "overflow_y": null,
      "padding": null,
      "right": null,
      "top": null,
      "visibility": null,
      "width": null
     }
    },
    "e0e5d44c0f0948018a3eb599001eb464": {
     "model_module": "@jupyter-widgets/controls",
     "model_module_version": "1.5.0",
     "model_name": "HTMLModel",
     "state": {
      "_dom_classes": [],
      "_model_module": "@jupyter-widgets/controls",
      "_model_module_version": "1.5.0",
      "_model_name": "HTMLModel",
      "_view_count": null,
      "_view_module": "@jupyter-widgets/controls",
      "_view_module_version": "1.5.0",
      "_view_name": "HTMLView",
      "description": "",
      "description_tooltip": null,
      "layout": "IPY_MODEL_fd3303f8831247898b50a0e8b352f1a2",
      "placeholder": "​",
      "style": "IPY_MODEL_b807c9071a59493f89a6ff819bd2ae0b",
      "value": "Making predictions:: 100%"
     }
    },
    "fd3303f8831247898b50a0e8b352f1a2": {
     "model_module": "@jupyter-widgets/base",
     "model_module_version": "1.2.0",
     "model_name": "LayoutModel",
     "state": {
      "_model_module": "@jupyter-widgets/base",
      "_model_module_version": "1.2.0",
      "_model_name": "LayoutModel",
      "_view_count": null,
      "_view_module": "@jupyter-widgets/base",
      "_view_module_version": "1.2.0",
      "_view_name": "LayoutView",
      "align_content": null,
      "align_items": null,
      "align_self": null,
      "border": null,
      "bottom": null,
      "display": null,
      "flex": null,
      "flex_flow": null,
      "grid_area": null,
      "grid_auto_columns": null,
      "grid_auto_flow": null,
      "grid_auto_rows": null,
      "grid_column": null,
      "grid_gap": null,
      "grid_row": null,
      "grid_template_areas": null,
      "grid_template_columns": null,
      "grid_template_rows": null,
      "height": null,
      "justify_content": null,
      "justify_items": null,
      "left": null,
      "margin": null,
      "max_height": null,
      "max_width": null,
      "min_height": null,
      "min_width": null,
      "object_fit": null,
      "object_position": null,
      "order": null,
      "overflow": null,
      "overflow_x": null,
      "overflow_y": null,
      "padding": null,
      "right": null,
      "top": null,
      "visibility": null,
      "width": null
     }
    }
   }
  }
 },
 "nbformat": 4,
 "nbformat_minor": 4
}
